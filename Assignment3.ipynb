{
  "nbformat": 4,
  "nbformat_minor": 0,
  "metadata": {
    "colab": {
      "name": "Assignment 3.ipynb",
      "provenance": [],
      "collapsed_sections": [],
      "toc_visible": true
    },
    "kernelspec": {
      "name": "python3",
      "display_name": "Python 3"
    },
    "accelerator": "GPU"
  },
  "cells": [
    {
      "cell_type": "markdown",
      "metadata": {
        "id": "W2BzUTj5qAzL",
        "colab_type": "text"
      },
      "source": [
        "##Question 1: Network Compression using SVD\n",
        "\n",
        "Importing library files, disabling warnings and reading the MNIST dataset"
      ]
    },
    {
      "cell_type": "code",
      "metadata": {
        "id": "f-yOcPlgrSOO",
        "colab_type": "code",
        "outputId": "6ccc853b-e7bb-4a78-e7fd-a22d313eb042",
        "colab": {
          "base_uri": "https://localhost:8080/",
          "height": 85
        }
      },
      "source": [
        "%tensorflow_version 1.x\n",
        "import os\n",
        "import glob\n",
        "import pickle\n",
        "import librosa\n",
        "os.environ['TF_CPP_MIN_LOG_LEVEL'] = '3'\n",
        "import tensorflow as tf\n",
        "import numpy as np\n",
        "import matplotlib.pyplot as plt\n",
        "import pandas as pd\n",
        "import seaborn as sns\n",
        "from sklearn.manifold import TSNE\n",
        "from sklearn.decomposition import PCA\n",
        "from tensorflow.examples.tutorials.mnist import input_data\n",
        "from tensorflow.keras.models import Sequential\n",
        "from tensorflow.keras.layers import Dense, Dropout, LSTM\n",
        "mnist = input_data.read_data_sets('MNIST_data', one_hot=True)"
      ],
      "execution_count": 0,
      "outputs": [
        {
          "output_type": "stream",
          "text": [
            "Extracting MNIST_data/train-images-idx3-ubyte.gz\n",
            "Extracting MNIST_data/train-labels-idx1-ubyte.gz\n",
            "Extracting MNIST_data/t10k-images-idx3-ubyte.gz\n",
            "Extracting MNIST_data/t10k-labels-idx1-ubyte.gz\n"
          ],
          "name": "stdout"
        }
      ]
    },
    {
      "cell_type": "code",
      "metadata": {
        "id": "ahtO-uh3r9gK",
        "colab_type": "code",
        "colab": {}
      },
      "source": [
        "n_nodes_h1 = 1024\n",
        "n_nodes_h2 = 1024\n",
        "n_nodes_h3 = 1024\n",
        "n_nodes_h4 = 1024\n",
        "n_nodes_h5 = 1024"
      ],
      "execution_count": 0,
      "outputs": []
    },
    {
      "cell_type": "code",
      "metadata": {
        "id": "HiWkSOmwsGNk",
        "colab_type": "code",
        "colab": {}
      },
      "source": [
        "n_classes = 10\n",
        "batch_size = 300\n",
        "\n",
        "#height x weight\n",
        "x = tf.placeholder('float',[None, 784])\n",
        "y = tf.placeholder('float')\n",
        "initializer = tf.random_normal_initializer()\n",
        "bias_init = tf.zeros_initializer()\n",
        "\n",
        "input_dim = 784\n",
        "\n",
        "def neural_network_model(data):\n",
        "\n",
        "    hidden_1_layer = {'weights': tf.Variable(initializer([input_dim,n_nodes_h1])),\n",
        "                     'biases': tf.Variable(bias_init([n_nodes_h1]))}\n",
        "    \n",
        "    hidden_2_layer = {'weights': tf.Variable(initializer([n_nodes_h1,n_nodes_h2])),\n",
        "                     'biases': tf.Variable(bias_init([n_nodes_h2]))}\n",
        "    \n",
        "    hidden_3_layer = {'weights': tf.Variable(initializer([n_nodes_h2,n_nodes_h3])),\n",
        "                     'biases': tf.Variable(bias_init([n_nodes_h3]))}\n",
        "    \n",
        "    hidden_4_layer = {'weights': tf.Variable(initializer([n_nodes_h3,n_nodes_h4])),\n",
        "                     'biases': tf.Variable(bias_init([n_nodes_h4]))}\n",
        "    \n",
        "    hidden_5_layer = {'weights': tf.Variable(initializer([n_nodes_h4,n_nodes_h5])),\n",
        "                     'biases': tf.Variable(bias_init([n_nodes_h5]))}\n",
        "    \n",
        "    output_layer = {'weights': tf.Variable(initializer([n_nodes_h5,n_classes])),\n",
        "                     'biases': tf.Variable(bias_init([n_classes]))}\n",
        "    \n",
        "    l1 = tf.add(tf.matmul(data,hidden_1_layer['weights']),hidden_1_layer['biases'])\n",
        "    l1 = tf.nn.relu(l1)\n",
        "    \n",
        "    l2 = tf.add(tf.matmul(l1,hidden_2_layer['weights']),hidden_2_layer['biases'])\n",
        "    l2 = tf.nn.relu(l2)\n",
        "    \n",
        "    l3 = tf.add(tf.matmul(l2,hidden_3_layer['weights']),hidden_3_layer['biases'])\n",
        "    l3 = tf.nn.relu(l3)\n",
        "    \n",
        "    l4 = tf.add(tf.matmul(l3,hidden_4_layer['weights']),hidden_4_layer['biases'])\n",
        "    l4 = tf.nn.relu(l4)\n",
        "    \n",
        "    l5 = tf.add(tf.matmul(l4,hidden_5_layer['weights']),hidden_5_layer['biases'])\n",
        "    l5 = tf.nn.relu(l5)\n",
        "    \n",
        "    output = tf.matmul(l5,output_layer['weights']) + output_layer['biases']\n",
        "    \n",
        "    return l1,l2,l3,l4,l5,output"
      ],
      "execution_count": 0,
      "outputs": []
    },
    {
      "cell_type": "code",
      "metadata": {
        "colab_type": "code",
        "outputId": "29d84e3c-8806-48bf-f4be-108a8fb4e820",
        "id": "DtvSoHGl4ley",
        "colab": {
          "base_uri": "https://localhost:8080/",
          "height": 357
        }
      },
      "source": [
        "\n",
        "prediction_l1,prediction_l2,prediction_l3,prediction_l4,prediction_l5,prediction = neural_network_model(x)\n",
        "cost = tf.reduce_mean(tf.nn.softmax_cross_entropy_with_logits(logits = prediction,labels = y))\n",
        "optimizer = tf.train.AdamOptimizer(learning_rate=0.0001).minimize(cost)\n",
        "\n",
        "hm_epochs = 20\n",
        "\n",
        "with tf.Session() as sess:\n",
        "  sess.run(tf.global_variables_initializer())\n",
        "\n",
        "  for epoch in range(hm_epochs):\n",
        "    epoch_loss = 0\n",
        "\n",
        "    for _ in range(int(mnist.train.num_examples/batch_size)):\n",
        "      epoch_x, epoch_y = mnist.train.next_batch(batch_size)\n",
        "      _, c = sess.run([optimizer, cost], feed_dict = {x: epoch_x, y: epoch_y})\n",
        "      epoch_loss += c\n",
        "\n",
        "    correct = tf.equal(tf.argmax(prediction,1), tf.argmax(y,1))\n",
        "    accuracy = tf.reduce_mean(tf.cast(correct,'float'))\n",
        "\n",
        "    print('Epoch', epoch+1, 'completed out of', hm_epochs, 'loss:', epoch_loss, 'Accuracy:', accuracy.eval({x:mnist.test.images, y:mnist.test.labels}))\n"
      ],
      "execution_count": 0,
      "outputs": [
        {
          "output_type": "stream",
          "text": [
            "Epoch 1 completed out of 20 loss: 3189269175.5 Accuracy: 0.6853\n",
            "Epoch 2 completed out of 20 loss: 833312243.25 Accuracy: 0.8008\n",
            "Epoch 3 completed out of 20 loss: 545752036.375 Accuracy: 0.8436\n",
            "Epoch 4 completed out of 20 loss: 412647805.125 Accuracy: 0.8657\n",
            "Epoch 5 completed out of 20 loss: 329995977.75 Accuracy: 0.8768\n",
            "Epoch 6 completed out of 20 loss: 272104342.375 Accuracy: 0.886\n",
            "Epoch 7 completed out of 20 loss: 226613852.125 Accuracy: 0.893\n",
            "Epoch 8 completed out of 20 loss: 192514779.90625 Accuracy: 0.8977\n",
            "Epoch 9 completed out of 20 loss: 163263046.625 Accuracy: 0.9018\n",
            "Epoch 10 completed out of 20 loss: 137969729.75 Accuracy: 0.9059\n",
            "Epoch 11 completed out of 20 loss: 118127623.859375 Accuracy: 0.907\n",
            "Epoch 12 completed out of 20 loss: 100531864.2578125 Accuracy: 0.91\n",
            "Epoch 13 completed out of 20 loss: 86600886.25 Accuracy: 0.9125\n",
            "Epoch 14 completed out of 20 loss: 71087507.0703125 Accuracy: 0.9143\n",
            "Epoch 15 completed out of 20 loss: 61722327.37890625 Accuracy: 0.9137\n",
            "Epoch 16 completed out of 20 loss: 49597379.15625 Accuracy: 0.9146\n",
            "Epoch 17 completed out of 20 loss: 43171156.54003906 Accuracy: 0.9156\n",
            "Epoch 18 completed out of 20 loss: 35979102.947265625 Accuracy: 0.9176\n",
            "Epoch 19 completed out of 20 loss: 28268536.49609375 Accuracy: 0.9181\n",
            "Epoch 20 completed out of 20 loss: 23309778.04145813 Accuracy: 0.9192\n"
          ],
          "name": "stdout"
        }
      ]
    },
    {
      "cell_type": "code",
      "metadata": {
        "id": "5Exn3Ah7gWXb",
        "colab_type": "code",
        "outputId": "55981ae6-186a-4098-ac3a-143560e0fb2a",
        "colab": {
          "base_uri": "https://localhost:8080/",
          "height": 595
        }
      },
      "source": [
        "variables = tf.get_collection(tf.GraphKeys.TRAINABLE_VARIABLES)\n",
        "variables"
      ],
      "execution_count": 0,
      "outputs": [
        {
          "output_type": "execute_result",
          "data": {
            "text/plain": [
              "[<tf.Variable 'Variable:0' shape=(784, 1024) dtype=float32_ref>,\n",
              " <tf.Variable 'Variable_1:0' shape=(1024,) dtype=float32_ref>,\n",
              " <tf.Variable 'Variable_2:0' shape=(1024, 1024) dtype=float32_ref>,\n",
              " <tf.Variable 'Variable_3:0' shape=(1024,) dtype=float32_ref>,\n",
              " <tf.Variable 'Variable_4:0' shape=(1024, 1024) dtype=float32_ref>,\n",
              " <tf.Variable 'Variable_5:0' shape=(1024,) dtype=float32_ref>,\n",
              " <tf.Variable 'Variable_6:0' shape=(1024, 1024) dtype=float32_ref>,\n",
              " <tf.Variable 'Variable_7:0' shape=(1024,) dtype=float32_ref>,\n",
              " <tf.Variable 'Variable_8:0' shape=(1024, 1024) dtype=float32_ref>,\n",
              " <tf.Variable 'Variable_9:0' shape=(1024,) dtype=float32_ref>,\n",
              " <tf.Variable 'Variable_10:0' shape=(1024, 10) dtype=float32_ref>,\n",
              " <tf.Variable 'Variable_11:0' shape=(10,) dtype=float32_ref>,\n",
              " <tf.Variable 'Variable_12:0' shape=(784, 20) dtype=float32_ref>,\n",
              " <tf.Variable 'Variable_13:0' shape=(20, 1024) dtype=float32_ref>,\n",
              " <tf.Variable 'Variable_14:0' shape=(1024, 20) dtype=float32_ref>,\n",
              " <tf.Variable 'Variable_15:0' shape=(20, 1024) dtype=float32_ref>,\n",
              " <tf.Variable 'Variable_16:0' shape=(1024, 20) dtype=float32_ref>,\n",
              " <tf.Variable 'Variable_17:0' shape=(20, 1024) dtype=float32_ref>,\n",
              " <tf.Variable 'Variable_18:0' shape=(1024, 20) dtype=float32_ref>,\n",
              " <tf.Variable 'Variable_19:0' shape=(20, 1024) dtype=float32_ref>,\n",
              " <tf.Variable 'Variable_20:0' shape=(1024, 20) dtype=float32_ref>,\n",
              " <tf.Variable 'Variable_21:0' shape=(20, 1024) dtype=float32_ref>,\n",
              " <tf.Variable 'Variable_22:0' shape=(784, 1024) dtype=float32_ref>,\n",
              " <tf.Variable 'Variable_23:0' shape=(1024,) dtype=float32_ref>,\n",
              " <tf.Variable 'Variable_24:0' shape=(1024, 1024) dtype=float32_ref>,\n",
              " <tf.Variable 'Variable_25:0' shape=(1024,) dtype=float32_ref>,\n",
              " <tf.Variable 'Variable_26:0' shape=(1024, 1024) dtype=float32_ref>,\n",
              " <tf.Variable 'Variable_27:0' shape=(1024,) dtype=float32_ref>,\n",
              " <tf.Variable 'Variable_28:0' shape=(1024, 1024) dtype=float32_ref>,\n",
              " <tf.Variable 'Variable_29:0' shape=(1024,) dtype=float32_ref>,\n",
              " <tf.Variable 'Variable_30:0' shape=(1024, 1024) dtype=float32_ref>,\n",
              " <tf.Variable 'Variable_31:0' shape=(1024,) dtype=float32_ref>,\n",
              " <tf.Variable 'Variable_32:0' shape=(1024, 10) dtype=float32_ref>,\n",
              " <tf.Variable 'Variable_33:0' shape=(10,) dtype=float32_ref>]"
            ]
          },
          "metadata": {
            "tags": []
          },
          "execution_count": 31
        }
      ]
    },
    {
      "cell_type": "code",
      "metadata": {
        "id": "JmvdZ9oCeVxS",
        "colab_type": "code",
        "colab": {}
      },
      "source": [
        "weight1 = variables[0]\n",
        "bias1 = variables[1]\n",
        "\n",
        "weight2 = variables[2]\n",
        "bias2 = variables[3]\n",
        "\n",
        "weight3 = variables[4]\n",
        "bias3 = variables[5]\n",
        "\n",
        "weight4 = variables[6]\n",
        "bias4 = variables[7]\n",
        "\n",
        "weight5 = variables[8]\n",
        "bias5 = variables[9]\n",
        "\n",
        "weight6 = variables[10]\n",
        "bias6 = variables[11]"
      ],
      "execution_count": 0,
      "outputs": []
    },
    {
      "cell_type": "code",
      "metadata": {
        "id": "4TA0Gqud96N7",
        "colab_type": "code",
        "colab": {}
      },
      "source": [
        "layer1_s,layer1_u,layer1_v = tf.svd(weight1)\n",
        "layer2_s,layer2_u,layer2_v = tf.svd(weight2)\n",
        "layer3_s,layer3_u,layer3_v = tf.svd(weight3)\n",
        "layer4_s,layer4_u,layer4_v = tf.svd(weight4)\n",
        "layer5_s,layer5_u,layer5_v = tf.svd(weight5)"
      ],
      "execution_count": 0,
      "outputs": []
    },
    {
      "cell_type": "code",
      "metadata": {
        "id": "fRNoqdm4wCNI",
        "colab_type": "code",
        "colab": {}
      },
      "source": [
        "#SVD Compression Loop Begins here\n",
        "D = [10,20,50,100,200,'full']"
      ],
      "execution_count": 0,
      "outputs": []
    },
    {
      "cell_type": "code",
      "metadata": {
        "id": "QymGJHHjJwM0",
        "colab_type": "code",
        "colab": {}
      },
      "source": [
        "  def compressed_neural_network_model(data,weight_p1,weight_p2,weight_p3,weight_p4,weight_p5,weight_p6,\n",
        "                          bias1,bias2,bias3,bias4,bias5,bias6):\n",
        "    \n",
        "      hidden_1_layer = {'weights': weight_p1,\n",
        "                      'biases': bias1}\n",
        "      \n",
        "      hidden_2_layer = {'weights': weight_p2,\n",
        "                      'biases': bias2}\n",
        "      \n",
        "      hidden_3_layer = {'weights': weight_p3,\n",
        "                      'biases': bias3}\n",
        "      \n",
        "      hidden_4_layer = {'weights': weight_p4,\n",
        "                      'biases': bias4}\n",
        "      \n",
        "      hidden_5_layer = {'weights': weight_p5,\n",
        "                      'biases': bias5}\n",
        "      \n",
        "      output_layer = {'weights': weight_p6,\n",
        "                      'biases': bias6}\n",
        "\n",
        "      l1 = tf.add(tf.matmul(data,hidden_1_layer['weights']),hidden_1_layer['biases'])\n",
        "      l1 = tf.nn.relu(l1)\n",
        "      \n",
        "      l2 = tf.add(tf.matmul(l1,hidden_2_layer['weights']),hidden_2_layer['biases'])\n",
        "      l2 = tf.nn.relu(l2)\n",
        "      \n",
        "      l3 = tf.add(tf.matmul(l2,hidden_3_layer['weights']),hidden_3_layer['biases'])\n",
        "      l3 = tf.nn.relu(l3)\n",
        "      \n",
        "      l4 = tf.add(tf.matmul(l3,hidden_4_layer['weights']),hidden_4_layer['biases'])\n",
        "      l4 = tf.nn.relu(l4)\n",
        "      \n",
        "      l5 = tf.add(tf.matmul(l4,hidden_5_layer['weights']),hidden_5_layer['biases'])\n",
        "      l5 = tf.nn.relu(l5)\n",
        "      \n",
        "      output = tf.matmul(l5,output_layer['weights']) + output_layer['biases']\n",
        "\n",
        "      return l1,l2,l3,l4,l5,output"
      ],
      "execution_count": 0,
      "outputs": []
    },
    {
      "cell_type": "code",
      "metadata": {
        "id": "qXBtkpkgfnLc",
        "colab_type": "code",
        "colab": {}
      },
      "source": [
        "def svd(d_value):\n",
        "\n",
        "  if d_value == 'full':\n",
        "\n",
        "    weight_p1 = tf.Variable(tf.matmul(tf.matmul(layer1_u, tf.diag(layer1_s)), layer1_v, transpose_b=True))\n",
        "    weight_p2 = tf.Variable(tf.matmul(tf.matmul(layer2_u, tf.diag(layer2_s)), layer2_v, transpose_b=True))\n",
        "    weight_p3 = tf.Variable(tf.matmul(tf.matmul(layer3_u, tf.diag(layer3_s)), layer3_v, transpose_b=True))\n",
        "    weight_p4 = tf.Variable(tf.matmul(tf.matmul(layer4_u, tf.diag(layer4_s)), layer4_v, transpose_b=True))\n",
        "    weight_p5 = tf.Variable(tf.matmul(tf.matmul(layer5_u, tf.diag(layer5_s)), layer5_v, transpose_b=True))\n",
        "    weight_p6 = weight6\n",
        "  \n",
        "  else:\n",
        "\n",
        "    weight_p1 = tf.Variable(tf.matmul(tf.matmul(layer1_u[:,0:d_value], tf.diag(layer1_s[0:d_value])), layer1_v[:,0:d_value], transpose_b=True))\n",
        "    weight_p2 = tf.Variable(tf.matmul(tf.matmul(layer2_u[:,0:d_value], tf.diag(layer2_s[0:d_value])), layer2_v[:,0:d_value], transpose_b=True))\n",
        "    weight_p3 = tf.Variable(tf.matmul(tf.matmul(layer3_u[:,0:d_value], tf.diag(layer3_s[0:d_value])), layer3_v[:,0:d_value], transpose_b=True))\n",
        "    weight_p4 = tf.Variable(tf.matmul(tf.matmul(layer4_u[:,0:d_value], tf.diag(layer4_s[0:d_value])), layer4_v[:,0:d_value], transpose_b=True))\n",
        "    weight_p5 = tf.Variable(tf.matmul(tf.matmul(layer5_u[:,0:d_value], tf.diag(layer5_s[0:d_value])), layer5_v[:,0:d_value], transpose_b=True))\n",
        "    weight_p6 = weight6\n",
        "\n",
        "  #height x weight\n",
        "  x = tf.placeholder('float',[None, 784])\n",
        "  y = tf.placeholder('float')\n",
        "  initializer = tf.random_normal_initializer()\n",
        "  bias_init = tf.zeros_initializer()\n",
        "\n",
        "  input_dim = 784\n",
        "\n",
        "  prediction_l1,prediction_l2,prediction_l3,prediction_l4,prediction_l5,prediction = compressed_neural_network_model(x,weight_p1,weight_p2,weight_p3,weight_p4,weight_p5,weight_p6,\n",
        "                          bias1,bias2,bias3,bias4,bias5,bias6)\n",
        "  cost = tf.reduce_mean(tf.nn.softmax_cross_entropy_with_logits(logits = prediction,labels = y))\n",
        "  optimizer = tf.train.AdamOptimizer(learning_rate=0.01).minimize(cost)\n",
        "\n",
        "  hm_epochs = 20\n",
        "\n",
        "  with tf.Session() as sess:\n",
        "    sess.run(tf.global_variables_initializer())\n",
        "\n",
        "    for epoch in range(hm_epochs):\n",
        "      epoch_loss = 0\n",
        "\n",
        "      \n",
        "      for _ in range(int(mnist.train.num_examples/batch_size)):\n",
        "        epoch_x, epoch_y = mnist.train.next_batch(batch_size)\n",
        "\n",
        "        _, c = sess.run([optimizer, cost], feed_dict = {x: epoch_x, y: epoch_y})\n",
        "\n",
        "        epoch_loss += c\n",
        "\n",
        "      correct = tf.equal(tf.argmax(prediction,1), tf.argmax(y,1))\n",
        "      accuracy = tf.reduce_mean(tf.cast(correct,'float'))\n",
        "\n",
        "    test_images = mnist.test.images\n",
        "    last_layer = sess.run(prediction,feed_dict = {x:test_images})\n",
        "    count = 0\n",
        "    for i in range(0,10000):\n",
        "      \n",
        "      if np.argmax(last_layer[i]) == np.argmax(mnist.test.labels[i]):\n",
        "        count += 1\n",
        "    \n",
        "  return (count/10000)\n",
        "  \n",
        "   "
      ],
      "execution_count": 0,
      "outputs": []
    },
    {
      "cell_type": "code",
      "metadata": {
        "id": "-wa4sFyrieKl",
        "colab_type": "code",
        "outputId": "d2b6e822-5d03-4fb2-ff84-93d2bcc50653",
        "colab": {
          "base_uri": "https://localhost:8080/",
          "height": 119
        }
      },
      "source": [
        "accuracy_list = []\n",
        "for i in D:\n",
        "  print(\"D Value is\",i)\n",
        "  accuracy_list.append(svd(i))"
      ],
      "execution_count": 0,
      "outputs": [
        {
          "output_type": "stream",
          "text": [
            "D Value is 10\n",
            "D Value is 20\n",
            "D Value is 50\n",
            "D Value is 100\n",
            "D Value is 200\n",
            "D Value is full\n"
          ],
          "name": "stdout"
        }
      ]
    },
    {
      "cell_type": "code",
      "metadata": {
        "id": "YLlQepuWKD3-",
        "colab_type": "code",
        "outputId": "8ee870a2-1e64-4d2f-f787-f0d1b13e4a32",
        "colab": {
          "base_uri": "https://localhost:8080/",
          "height": 279
        }
      },
      "source": [
        "plt.plot(D, accuracy_list)\n",
        "plt.xlabel('D Values')\n",
        "plt.ylabel('Accuracy')\n",
        "plt.show()"
      ],
      "execution_count": 0,
      "outputs": [
        {
          "output_type": "display_data",
          "data": {
            "image/png": "[encoded data removed]",
            "text/plain": [
              "<Figure size 432x288 with 1 Axes>"
            ]
          },
          "metadata": {
            "tags": []
          }
        }
      ]
    },
    {
      "cell_type": "code",
      "metadata": {
        "id": "OC_RvmgZX3kJ",
        "colab_type": "code",
        "colab": {}
      },
      "source": [
        "#Question 1.6\n",
        "def new_neural_network_model(data,u_p1,u_p2,u_p3,u_p4,u_p5,v_p1,v_p2,v_p3,v_p4,v_p5,weight6,\n",
        "                             bias1,bias2,bias3,bias4,bias5,bias6):\n",
        "    \n",
        "      hidden_1_layer = {'u_val': u_p1,\n",
        "                        'v_val': v_p1,\n",
        "                        'biases': bias1}\n",
        "      \n",
        "      hidden_2_layer = {'u_val': u_p2,\n",
        "                        'v_val': v_p2,\n",
        "                        'biases': bias2}\n",
        "      \n",
        "      hidden_3_layer = {'u_val': u_p3,\n",
        "                        'v_val': v_p3,\n",
        "                        'biases': bias3}\n",
        "      \n",
        "      hidden_4_layer = {'u_val': u_p4,\n",
        "                        'v_val': v_p4,\n",
        "                        'biases': bias4}\n",
        "      \n",
        "      hidden_5_layer = {'u_val': u_p5,\n",
        "                        'v_val': v_p5,\n",
        "                        'biases': bias5}\n",
        "      \n",
        "      output_layer = {'weights': weight6,\n",
        "                      'biases': bias6}\n",
        "\n",
        "      l1 = tf.add(tf.matmul(data,tf.matmul(hidden_1_layer['u_val'],hidden_1_layer['v_val'])),\n",
        "                            hidden_1_layer['biases'])\n",
        "      l1 = tf.nn.relu(l1)\n",
        "      \n",
        "      l2 = tf.add(tf.matmul(l1,tf.matmul(hidden_2_layer['u_val'],hidden_2_layer['v_val'])),\n",
        "                            hidden_2_layer['biases'])\n",
        "      l2 = tf.nn.relu(l2)\n",
        "      \n",
        "      l3 = tf.add(tf.matmul(l2,tf.matmul(hidden_3_layer['u_val'],hidden_3_layer['v_val'])),\n",
        "                            hidden_3_layer['biases'])\n",
        "      l3 = tf.nn.relu(l3)\n",
        "      \n",
        "      l4 = tf.add(tf.matmul(l3,tf.matmul(hidden_4_layer['u_val'],hidden_4_layer['v_val'])),\n",
        "                            hidden_4_layer['biases'])\n",
        "      l4 = tf.nn.relu(l4)\n",
        "      \n",
        "      l5 = tf.add(tf.matmul(l4,tf.matmul(hidden_5_layer['u_val'],hidden_5_layer['v_val'])),\n",
        "                            hidden_5_layer['biases'])\n",
        "      l5 = tf.nn.relu(l5)\n",
        "      \n",
        "      output = tf.matmul(l5,output_layer['weights']) + output_layer['biases']\n",
        "\n",
        "      return l1,l2,l3,l4,l5,output"
      ],
      "execution_count": 0,
      "outputs": []
    },
    {
      "cell_type": "code",
      "metadata": {
        "id": "tNXtKqNXuPj3",
        "colab_type": "code",
        "colab": {}
      },
      "source": [
        "  u_p1,v_p1 = tf.Variable(layer1_u[:,0:20]), tf.Variable(tf.matmul(tf.diag(layer1_s[0:20]), layer1_v[:,0:20],transpose_b=True))\n",
        "  u_p2,v_p2 = tf.Variable(layer2_u[:,0:20]), tf.Variable(tf.matmul(tf.diag(layer2_s[0:20]), layer2_v[:,0:20],transpose_b=True))\n",
        "  u_p3,v_p3 = tf.Variable(layer3_u[:,0:20]), tf.Variable(tf.matmul(tf.diag(layer3_s[0:20]), layer3_v[:,0:20],transpose_b=True))\n",
        "  u_p4,v_p4 = tf.Variable(layer4_u[:,0:20]), tf.Variable(tf.matmul(tf.diag(layer4_s[0:20]), layer4_v[:,0:20],transpose_b=True))\n",
        "  u_p5,v_p5 = tf.Variable(layer5_u[:,0:20]), tf.Variable(tf.matmul(tf.diag(layer5_s[0:20]), layer5_v[:,0:20],transpose_b=True))\n",
        "  weight_p6 = weight6"
      ],
      "execution_count": 0,
      "outputs": []
    },
    {
      "cell_type": "code",
      "metadata": {
        "id": "Wcps90jVj8io",
        "colab_type": "code",
        "outputId": "9acb9323-1ac8-49a1-aa18-e4c860d0f99c",
        "colab": {
          "base_uri": "https://localhost:8080/",
          "height": 357
        }
      },
      "source": [
        "#height x weight\n",
        "x = tf.placeholder('float',[None, 784])\n",
        "y = tf.placeholder('float',[None, 10])\n",
        "initializer = tf.random_normal_initializer()\n",
        "bias_init = tf.zeros_initializer()\n",
        "\n",
        "input_dim = 784\n",
        "\n",
        "prediction_l1,prediction_l2,prediction_l3,prediction_l4,prediction_l5,prediction = new_neural_network_model(x,u_p1,u_p2,u_p3,u_p4,u_p5,v_p1,v_p2,v_p3,v_p4,v_p5,weight_p6,\n",
        "                        bias1,bias2,bias3,bias4,bias5,bias6)\n",
        "cost = tf.reduce_mean(tf.nn.softmax_cross_entropy_with_logits(logits = prediction,labels = y))\n",
        "optimizer = tf.train.AdamOptimizer(learning_rate=0.0001).minimize(cost)\n",
        "correct = tf.equal(tf.argmax(prediction,1), tf.argmax(y,1))\n",
        "accuracy = tf.reduce_mean(tf.cast(correct,'float'))\n",
        "\n",
        "hm_epochs = 20\n",
        "\n",
        "with tf.Session() as sess:\n",
        "  sess.run(tf.global_variables_initializer())\n",
        "\n",
        "  for epoch in range(hm_epochs):\n",
        "\n",
        "    epoch_loss = 0\n",
        "    \n",
        "    for _ in range(int(mnist.train.num_examples/batch_size)):\n",
        "      epoch_x, epoch_y = mnist.train.next_batch(batch_size)\n",
        "\n",
        "      _, c = sess.run([optimizer, cost], feed_dict = {x: epoch_x, y: epoch_y})\n",
        "      accTest = accuracy.eval({x:mnist.test.images, y:mnist.test.labels})\n",
        "      \n",
        "      epoch_loss += c\n",
        "\n",
        "    print('Epoch', epoch+1, 'completed out of', hm_epochs, 'Accuracy:', accTest)\n",
        "      \n",
        "  count = 0\n"
      ],
      "execution_count": 0,
      "outputs": [
        {
          "output_type": "stream",
          "text": [
            "Epoch 1 completed out of 20 Accuracy: 0.5776\n",
            "Epoch 2 completed out of 20 Accuracy: 0.6676\n",
            "Epoch 3 completed out of 20 Accuracy: 0.7139\n",
            "Epoch 4 completed out of 20 Accuracy: 0.7366\n",
            "Epoch 5 completed out of 20 Accuracy: 0.7551\n",
            "Epoch 6 completed out of 20 Accuracy: 0.7626\n",
            "Epoch 7 completed out of 20 Accuracy: 0.7823\n",
            "Epoch 8 completed out of 20 Accuracy: 0.7531\n",
            "Epoch 9 completed out of 20 Accuracy: 0.777\n",
            "Epoch 10 completed out of 20 Accuracy: 0.8067\n",
            "Epoch 11 completed out of 20 Accuracy: 0.7942\n",
            "Epoch 12 completed out of 20 Accuracy: 0.8048\n",
            "Epoch 13 completed out of 20 Accuracy: 0.8231\n",
            "Epoch 14 completed out of 20 Accuracy: 0.8399\n",
            "Epoch 15 completed out of 20 Accuracy: 0.8197\n",
            "Epoch 16 completed out of 20 Accuracy: 0.8204\n",
            "Epoch 17 completed out of 20 Accuracy: 0.818\n",
            "Epoch 18 completed out of 20 Accuracy: 0.8448\n",
            "Epoch 19 completed out of 20 Accuracy: 0.851\n",
            "Epoch 20 completed out of 20 Accuracy: 0.832\n"
          ],
          "name": "stdout"
        }
      ]
    },
    {
      "cell_type": "markdown",
      "metadata": {
        "id": "ENSedBK6LWLO",
        "colab_type": "text"
      },
      "source": [
        "##Question 2: RNN"
      ]
    },
    {
      "cell_type": "code",
      "metadata": {
        "id": "HebGfvGpLUJc",
        "colab_type": "code",
        "colab": {}
      },
      "source": [
        "#Mount the drive\n",
        "from google.colab import drive, files\n",
        "drive.mount('/content/drive')"
      ],
      "execution_count": 0,
      "outputs": []
    },
    {
      "cell_type": "code",
      "metadata": {
        "id": "m370Cr5nqqZt",
        "colab_type": "code",
        "colab": {}
      },
      "source": [
        "def extractPickle(pickle_file , mag_pickle_file, file_path):\n",
        "  if os.path.exists(pickle_file) and os.path.exists(mag_pickle_file):\n",
        "    speech_list = pickle.load(open(pickle_file, 'rb'))\n",
        "    mag_speech_list = pickle.load(open(mag_pickle_file, 'rb'))\n",
        "    \n",
        "    return speech_list , mag_speech_list\n",
        "  \n",
        "  else:\n",
        "    speech_list = []\n",
        "    mag_speech_list = []\n",
        "    for file in sorted(glob.iglob(file_path)):\n",
        "      s,sr = librosa.load(file , sr=None)\n",
        "      S = librosa.stft(s, n_fft=1024, hop_length=512)\n",
        "      speech_list.append(S)\n",
        "\n",
        "      mag_S = np.abs(S)\n",
        "      mag_speech_list.append(mag_S)\n",
        "\n",
        "    pickle.dump(speech_list, open(pickle_file, 'wb'))\n",
        "    pickle.dump(mag_speech_list, open(mag_pickle_file, 'wb'))\n",
        "    \n",
        "    return speech_list , mag_speech_list"
      ],
      "execution_count": 0,
      "outputs": []
    },
    {
      "cell_type": "code",
      "metadata": {
        "id": "8sD9qbpiOZFY",
        "colab_type": "code",
        "outputId": "9545aa8b-b08f-41f0-ae2b-f564680a3579",
        "colab": {
          "base_uri": "https://localhost:8080/",
          "height": 54
        }
      },
      "source": [
        "from google.colab import drive, files\n",
        "drive.mount('/content/drive')"
      ],
      "execution_count": 0,
      "outputs": [
        {
          "output_type": "stream",
          "text": [
            "Drive already mounted at /content/drive; to attempt to forcibly remount, call drive.mount(\"/content/drive\", force_remount=True).\n"
          ],
          "name": "stdout"
        }
      ]
    },
    {
      "cell_type": "code",
      "metadata": {
        "id": "ha5l7Ku-6uI2",
        "colab_type": "code",
        "outputId": "570eef85-74bb-4d56-d268-16b681242faa",
        "colab": {
          "base_uri": "https://localhost:8080/",
          "height": 255
        }
      },
      "source": [
        "folder_path = '/content/drive/My Drive/lstm/'\n",
        "\n",
        "trs_path = folder_path + 'tr/trs*.wav'\n",
        "trn_path = folder_path + 'tr/trn*.wav'\n",
        "trx_path = folder_path + 'tr/trx*.wav'\n",
        "\n",
        "vs_path = folder_path + 'v/vs*.wav'\n",
        "vn_path = folder_path + 'v/vn*.wav'\n",
        "vx_path = folder_path + 'v/vx*.wav'\n",
        "\n",
        "tex_path = folder_path + 'te/tex*.wav'\n",
        "\n",
        "trs_pickle = folder_path + 'trs_pickle.pkl'\n",
        "mag_trs_pickle = folder_path + 'mag_trs_pickle.pkl'\n",
        "trn_pickle = folder_path + 'trn_pickle.pkl'\n",
        "mag_trn_pickle = folder_path + 'mag_trn_pickle.pkl'\n",
        "trx_pickle = folder_path + 'trx_pickle.pkl'\n",
        "mag_trx_pickle = folder_path + 'mag_trx_pickle.pkl'\n",
        "\n",
        "vs_pickle = folder_path + 'vs_pickle.pkl'\n",
        "mag_vs_pickle = folder_path + 'mag_vs_pickle.pkl'\n",
        "vn_pickle = folder_path + 'vn_pickle.pkl'\n",
        "mag_vn_pickle = folder_path + 'mag_vn_pickle.pkl'\n",
        "vx_pickle = folder_path + 'vx_pickle.pkl'\n",
        "mag_vx_pickle = folder_path + 'mag_vx_pickle.pkl'\n",
        "\n",
        "tex_pickle = folder_path + 'tex_pickle.pkl'\n",
        "mag_tex_pickle = folder_path + 'mag_tex_pickle.pkl'\n",
        "\n",
        "trs_list, mag_trs_list = extractPickle(trs_pickle, mag_trs_pickle, trs_path)\n",
        "print(\"Train signal loaded\")\n",
        "print(len(trs_list),len(mag_trs_list))\n",
        "\n",
        "trn_list, mag_trn_list = extractPickle(trn_pickle, mag_trn_pickle, trn_path)\n",
        "print(\"Train noise loaded\")\n",
        "print(len(trn_list),len(mag_trn_list))\n",
        "\n",
        "trx_list, mag_trx_list = extractPickle(trx_pickle, mag_trx_pickle, trx_path)\n",
        "print(\"Train mixed loaded\")\n",
        "print(len(trx_list),len(mag_trx_list))\n",
        "\n",
        "vs_list, mag_vs_list = extractPickle(vs_pickle, mag_vs_pickle, vs_path)\n",
        "print(\"Validation signal loaded\")\n",
        "print(len(vs_list),len(mag_vs_list))\n",
        "\n",
        "vn_list, mag_vn_list = extractPickle(vn_pickle, mag_vn_pickle, vn_path)\n",
        "print(\"Validation noise loaded\")\n",
        "print(len(vn_list),len(mag_vn_list))\n",
        "\n",
        "vx_list, mag_vx_list = extractPickle(vx_pickle, mag_vx_pickle, vx_path)\n",
        "print(\"Validation mixed loaded\")\n",
        "print(len(vx_list),len(mag_vx_list))\n",
        "\n",
        "tex_list, mag_tex_list = extractPickle(tex_pickle, mag_tex_pickle, tex_path)\n",
        "print(\"Test mixed loaded\")\n",
        "print(len(tex_list),len(mag_tex_list))"
      ],
      "execution_count": 0,
      "outputs": [
        {
          "output_type": "stream",
          "text": [
            "Train signal loaded\n",
            "1200 1200\n",
            "Train noise loaded\n",
            "1200 1200\n",
            "Train mixed loaded\n",
            "1200 1200\n",
            "Validation signal loaded\n",
            "1200 1200\n",
            "Validation noise loaded\n",
            "1200 1200\n",
            "Validation mixed loaded\n",
            "1200 1200\n",
            "Test mixed loaded\n",
            "400 400\n"
          ],
          "name": "stdout"
        }
      ]
    },
    {
      "cell_type": "code",
      "metadata": {
        "id": "2cSMP0TZj8-t",
        "colab_type": "code",
        "colab": {}
      },
      "source": [
        "# All files are loaded\n",
        "def IBM_Matrix(s_list,n_list):\n",
        "  m_list = []\n",
        "  for i in range(0,len(s_list)):\n",
        "    m = 1*(s_list[i] > n_list[i]) \n",
        "    m_list.append(m)\n",
        "  return m_list"
      ],
      "execution_count": 0,
      "outputs": []
    },
    {
      "cell_type": "code",
      "metadata": {
        "id": "tLIpq9FCLlMV",
        "colab_type": "code",
        "colab": {}
      },
      "source": [
        "M = IBM_Matrix(mag_trs_list,mag_trn_list)"
      ],
      "execution_count": 0,
      "outputs": []
    },
    {
      "cell_type": "code",
      "metadata": {
        "id": "Qz2iM1gLL27X",
        "colab_type": "code",
        "colab": {}
      },
      "source": [
        "#So we know that mag_trx_list will be your input and M should be your desired output\n",
        "batch_size = 10\n",
        "hm_epochs = 100"
      ],
      "execution_count": 0,
      "outputs": []
    },
    {
      "cell_type": "code",
      "metadata": {
        "id": "Ago6uEKjfCQu",
        "colab_type": "code",
        "colab": {}
      },
      "source": [
        "tf.reset_default_graph()\n",
        "x = tf.placeholder('float',[None, None, 513])\n",
        "y = tf.placeholder('float',[None, None, 513])\n",
        "\n",
        "def lstm(data):\n",
        "\n",
        "  lstm_cell = tf.contrib.rnn.LSTMCell(513, initializer=tf.contrib.layers.variance_scaling_initializer())\n",
        "  drop_out = tf.nn.rnn_cell.DropoutWrapper(lstm_cell , output_keep_prob=0.9)\n",
        "  lstm_output , state = tf.nn.dynamic_rnn(drop_out, data , dtype=tf.float32)\n",
        "  output = tf.layers.dense(lstm_output , 513 , activation=tf.nn.sigmoid , kernel_initializer=tf.contrib.layers.variance_scaling_initializer())\n",
        "  \n",
        "  return output\n"
      ],
      "execution_count": 0,
      "outputs": []
    },
    {
      "cell_type": "code",
      "metadata": {
        "id": "98ZpfaiMqxvJ",
        "colab_type": "code",
        "outputId": "4667ec15-c662-417f-ebbc-cb6768d1db74",
        "colab": {
          "base_uri": "https://localhost:8080/",
          "height": 1000
        }
      },
      "source": [
        "prediction = lstm(x)\n",
        "cost = tf.reduce_mean(tf.square(prediction-y))\n",
        "optimizer = tf.train.AdamOptimizer(learning_rate=0.01).minimize(cost)\n",
        "\n",
        "with tf.Session() as sess:\n",
        "  sess.run(tf.global_variables_initializer())\n",
        "\n",
        "  for epoch in range(hm_epochs):\n",
        "\n",
        "    epoch_loss = 0\n",
        "\n",
        "    for i in range(0,len(mag_trx_list),batch_size):\n",
        "\n",
        "      epoch_x = [np.transpose(mag_trx_list[j]) for j in range(i,i+batch_size)]\n",
        "      epoch_y = [np.transpose(M[j]) for j in range(i,i+batch_size)]\n",
        "\n",
        "      epoch_x = np.array(epoch_x).reshape(batch_size,-1,513)\n",
        "      epoch_y = np.array(epoch_y).reshape(batch_size,-1,513)\n",
        "\n",
        "      _, c = sess.run([optimizer, cost], feed_dict = {x: epoch_x, y: epoch_y})\n",
        "      epoch_loss += c\n",
        "    \n",
        "    average_loss = epoch_loss/(len(mag_trx_list))\n",
        "\n",
        "    print('Epoch', epoch+1, 'completed out of', hm_epochs, 'loss:', average_loss)\n",
        "  \n",
        "  SNR_Array = []\n",
        "\n",
        "  for i in range(len(mag_vx_list)):\n",
        "\n",
        "    mag_vx_value = np.array([mag_vx_list[i].T])\n",
        "    vx_value = np.array([vx_list[i].T])\n",
        "    \n",
        "    validation_output = sess.run(prediction,feed_dict = {x: mag_vx_value})\n",
        "    s_predict = np.multiply(validation_output,vx_value)\n",
        "    s_predict = s_predict.T[:,:,0]\n",
        "\n",
        "    s_hat = librosa.istft(s_predict , hop_length=512 , win_length=1024)\n",
        "    s = librosa.istft(vs_list[i] , hop_length=512 , win_length=1024)\n",
        "\n",
        "    size = np.shape(s_hat)[0]\n",
        "    num = np.dot(np.transpose(s),s)\n",
        "    den = np.dot(np.transpose(s - s_hat),(s - s_hat))\n",
        "    SNR = 10 * np.log10(num/den)\n",
        "  \n",
        "    SNR_Array.append(SNR)\n",
        "\n",
        "  print(\"\")\n",
        "  print(\"Mean SNR:\", np.mean(SNR_Array))\n",
        "\n"
      ],
      "execution_count": 0,
      "outputs": [
        {
          "output_type": "stream",
          "text": [
            "Epoch 1 completed out of 100 loss: 0.019253769268592198\n",
            "Epoch 2 completed out of 100 loss: 0.015865754342327516\n",
            "Epoch 3 completed out of 100 loss: 0.015143717477718989\n",
            "Epoch 4 completed out of 100 loss: 0.014577611250181992\n",
            "Epoch 5 completed out of 100 loss: 0.014151911350588004\n",
            "Epoch 6 completed out of 100 loss: 0.013851975568880638\n",
            "Epoch 7 completed out of 100 loss: 0.013540255576372147\n",
            "Epoch 8 completed out of 100 loss: 0.013349853809922934\n",
            "Epoch 9 completed out of 100 loss: 0.013146889004856348\n",
            "Epoch 10 completed out of 100 loss: 0.012925438849876325\n",
            "Epoch 11 completed out of 100 loss: 0.013117407939086358\n",
            "Epoch 12 completed out of 100 loss: 0.012840820314983526\n",
            "Epoch 13 completed out of 100 loss: 0.012470221612602472\n",
            "Epoch 14 completed out of 100 loss: 0.012329267555226881\n",
            "Epoch 15 completed out of 100 loss: 0.012239174582064152\n",
            "Epoch 16 completed out of 100 loss: 0.012041758851458629\n",
            "Epoch 17 completed out of 100 loss: 0.011935671102255583\n",
            "Epoch 18 completed out of 100 loss: 0.011862292593965928\n",
            "Epoch 19 completed out of 100 loss: 0.011741823821018139\n",
            "Epoch 20 completed out of 100 loss: 0.011673518344759942\n",
            "Epoch 21 completed out of 100 loss: 0.011535311893870434\n",
            "Epoch 22 completed out of 100 loss: 0.011501198206096887\n",
            "Epoch 23 completed out of 100 loss: 0.011593416035175323\n",
            "Epoch 24 completed out of 100 loss: 0.011517602590223153\n",
            "Epoch 25 completed out of 100 loss: 0.011328242626041174\n",
            "Epoch 26 completed out of 100 loss: 0.011179286725819111\n",
            "Epoch 27 completed out of 100 loss: 0.01109374850988388\n",
            "Epoch 28 completed out of 100 loss: 0.011059162685026725\n",
            "Epoch 29 completed out of 100 loss: 0.010936866533011198\n",
            "Epoch 30 completed out of 100 loss: 0.010889094863086939\n",
            "Epoch 31 completed out of 100 loss: 0.010877805768201748\n",
            "Epoch 32 completed out of 100 loss: 0.010816894713789224\n",
            "Epoch 33 completed out of 100 loss: 0.010683867887904246\n",
            "Epoch 34 completed out of 100 loss: 0.010644837922106187\n",
            "Epoch 35 completed out of 100 loss: 0.010639253668487073\n",
            "Epoch 36 completed out of 100 loss: 0.010590333503981432\n",
            "Epoch 37 completed out of 100 loss: 0.010539671014994383\n",
            "Epoch 38 completed out of 100 loss: 0.010535803058495124\n",
            "Epoch 39 completed out of 100 loss: 0.010456446018069982\n",
            "Epoch 40 completed out of 100 loss: 0.010388232301920652\n",
            "Epoch 41 completed out of 100 loss: 0.010334523574759563\n",
            "Epoch 42 completed out of 100 loss: 0.010268386385093132\n",
            "Epoch 43 completed out of 100 loss: 0.010218850858509541\n",
            "Epoch 44 completed out of 100 loss: 0.010222832951694728\n",
            "Epoch 45 completed out of 100 loss: 0.010222778245806695\n",
            "Epoch 46 completed out of 100 loss: 0.010238085308422644\n",
            "Epoch 47 completed out of 100 loss: 0.010278151612728834\n",
            "Epoch 48 completed out of 100 loss: 0.010627387035638093\n",
            "Epoch 49 completed out of 100 loss: 0.010916785870989165\n",
            "Epoch 50 completed out of 100 loss: 0.010822649498780569\n",
            "Epoch 51 completed out of 100 loss: 0.010920018125325441\n",
            "Epoch 52 completed out of 100 loss: 0.010617610855648914\n",
            "Epoch 53 completed out of 100 loss: 0.010456529775013526\n",
            "Epoch 54 completed out of 100 loss: 0.010289057940244675\n",
            "Epoch 55 completed out of 100 loss: 0.010112537145614624\n",
            "Epoch 56 completed out of 100 loss: 0.010005275954802832\n",
            "Epoch 57 completed out of 100 loss: 0.009935485627502204\n",
            "Epoch 58 completed out of 100 loss: 0.009893255302061638\n",
            "Epoch 59 completed out of 100 loss: 0.009854388404637576\n",
            "Epoch 60 completed out of 100 loss: 0.009836114073793093\n",
            "Epoch 61 completed out of 100 loss: 0.009799354982872804\n",
            "Epoch 62 completed out of 100 loss: 0.009789420297990242\n",
            "Epoch 63 completed out of 100 loss: 0.009770755140731733\n",
            "Epoch 64 completed out of 100 loss: 0.009764103926718235\n",
            "Epoch 65 completed out of 100 loss: 0.009769423839946587\n",
            "Epoch 66 completed out of 100 loss: 0.009791414812207222\n",
            "Epoch 67 completed out of 100 loss: 0.00980527459954222\n",
            "Epoch 68 completed out of 100 loss: 0.009806538869937261\n",
            "Epoch 69 completed out of 100 loss: 0.009780642626186211\n",
            "Epoch 70 completed out of 100 loss: 0.009732152863095204\n",
            "Epoch 71 completed out of 100 loss: 0.009700567467759052\n",
            "Epoch 72 completed out of 100 loss: 0.009705491481969754\n",
            "Epoch 73 completed out of 100 loss: 0.00972979336977005\n",
            "Epoch 74 completed out of 100 loss: 0.009696950893849135\n",
            "Epoch 75 completed out of 100 loss: 0.009686476588249206\n",
            "Epoch 76 completed out of 100 loss: 0.009676256912449995\n",
            "Epoch 77 completed out of 100 loss: 0.00965637670829892\n",
            "Epoch 78 completed out of 100 loss: 0.009646275509148837\n",
            "Epoch 79 completed out of 100 loss: 0.009646791045864423\n",
            "Epoch 80 completed out of 100 loss: 0.009589178388317425\n",
            "Epoch 81 completed out of 100 loss: 0.009546666052192449\n",
            "Epoch 82 completed out of 100 loss: 0.009490527572731177\n",
            "Epoch 83 completed out of 100 loss: 0.009467072015007337\n",
            "Epoch 84 completed out of 100 loss: 0.009469162368526062\n",
            "Epoch 85 completed out of 100 loss: 0.009496144174287716\n",
            "Epoch 86 completed out of 100 loss: 0.009475046383837858\n",
            "Epoch 87 completed out of 100 loss: 0.009466724780698618\n",
            "Epoch 88 completed out of 100 loss: 0.009486780383934577\n",
            "Epoch 89 completed out of 100 loss: 0.009552126297106346\n",
            "Epoch 90 completed out of 100 loss: 0.009583168892810742\n",
            "Epoch 91 completed out of 100 loss: 0.00953171789025267\n",
            "Epoch 92 completed out of 100 loss: 0.009496622247000536\n",
            "Epoch 93 completed out of 100 loss: 0.00950794605538249\n",
            "Epoch 94 completed out of 100 loss: 0.009490937646478414\n",
            "Epoch 95 completed out of 100 loss: 0.00943245845536391\n",
            "Epoch 96 completed out of 100 loss: 0.009404980018734932\n",
            "Epoch 97 completed out of 100 loss: 0.009450006354600192\n",
            "Epoch 98 completed out of 100 loss: 0.00943775507931908\n",
            "Epoch 99 completed out of 100 loss: 0.00936613895619909\n",
            "Epoch 100 completed out of 100 loss: 0.009314735401421786\n",
            "\n",
            "Mean SNR: 11.440279529492061\n"
          ],
          "name": "stdout"
        }
      ]
    },
    {
      "cell_type": "code",
      "metadata": {
        "id": "nWsZERIVlGPD",
        "colab_type": "code",
        "colab": {}
      },
      "source": [
        "  for i in range(len(mag_tex_list)):\n",
        "\n",
        "    mag_tex_value = np.array([mag_tex_list[i].T])\n",
        "    tex_value = np.array([tex_list[i].T])\n",
        "    \n",
        "    test_output = sess.run(prediction,feed_dict = {x: mag_tex_value})\n",
        "    test_predict = np.multiply(test_output,tex_value)\n",
        "    test_predict = test_predict.T[:,:,0]\n",
        "\n",
        "    test_hat = librosa.istft(test_predict , hop_length=512 , win_length=1024)\n",
        "    \n",
        "    file_num = str(i).zfill(4)\n",
        "    librosa.output.write_wav('test_audio_file_' + file_num + '.wav', test_hat, sr = 16000)\n",
        "    files.download('test_audio_file_' + file_num + '.wav')"
      ],
      "execution_count": 0,
      "outputs": []
    }
  ]
}